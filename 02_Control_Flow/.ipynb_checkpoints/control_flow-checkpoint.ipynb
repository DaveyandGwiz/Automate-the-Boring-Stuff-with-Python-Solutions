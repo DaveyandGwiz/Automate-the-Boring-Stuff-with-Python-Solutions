{
 "cells": [
  {
   "cell_type": "code",
   "execution_count": null,
   "id": "76d4640b-cfae-49d7-9d3d-e19b4a6f5e5c",
   "metadata": {},
   "outputs": [],
   "source": [
    "But programming’s real strength isn’t just running one instruction after another like a weekend errand list. Based on how expressions evaluate, a program can decide to skip instructions, repeat them, or choose one of several instructions to run. In fact, you almost never want your programs to start from the first line of code and simply execute every line, straight to the end. Flow control statements can decide which Python instructions to execute under which conditions.\n"
   ]
  },
  {
   "cell_type": "code",
   "execution_count": null,
   "id": "232c15fa-12df-46c5-9b9a-ee5049219dd6",
   "metadata": {},
   "outputs": [],
   "source": [
    "flow chart"
   ]
  },
  {
   "cell_type": "code",
   "execution_count": null,
   "id": "6c123e35-0a06-491b-9cc1-c938029d3c8f",
   "metadata": {},
   "outputs": [],
   "source": [
    "Boolean values\n",
    "Comparison Operators\n",
    "Comparison operators, also called relational operators, compare two values and"
   ]
  },
  {
   "cell_type": "code",
   "execution_count": 1,
   "id": "d3649e2d-649b-4122-b602-e6cf61b06216",
   "metadata": {},
   "outputs": [
    {
     "data": {
      "text/plain": [
       "True"
      ]
     },
     "execution_count": 1,
     "metadata": {},
     "output_type": "execute_result"
    }
   ],
   "source": [
    "# examples of boolean operations"
   ]
  },
  {
   "cell_type": "code",
   "execution_count": 6,
   "id": "37ed19ef-cb46-4ec2-9e66-96c23d6c521d",
   "metadata": {},
   "outputs": [
    {
     "data": {
      "text/plain": [
       "False"
      ]
     },
     "execution_count": 6,
     "metadata": {},
     "output_type": "execute_result"
    }
   ],
   "source": [
    "# tricky examples\n",
    "'ab' == 'a'+'b'\n",
    "'A' == 'a'\n",
    "1 == 1.0\n",
    "type(1) == type (1.0)\n"
   ]
  },
  {
   "cell_type": "code",
   "execution_count": null,
   "id": "6836fd2b-3b26-43e1-82d6-e0d76675e752",
   "metadata": {},
   "outputs": [],
   "source": [
    "THE DIFFERENCE BETWEEN THE == AND = OPERATORS\n",
    "1 = 1"
   ]
  },
  {
   "cell_type": "code",
   "execution_count": null,
   "id": "bb1ccf17-453c-46b0-9b77-6c9f3877528b",
   "metadata": {},
   "outputs": [],
   "source": [
    "# Boolean Opeators: And Not or"
   ]
  },
  {
   "cell_type": "markdown",
   "id": "b35e53bc-0870-485c-9f20-10a16a68b214",
   "metadata": {},
   "source": [
    "<img src=\"truth_table.png\" alt=\"My Image\" width=\"400\"/>\n"
   ]
  },
  {
   "cell_type": "code",
   "execution_count": null,
   "id": "3793267e-096a-4a58-91c3-1506c209d083",
   "metadata": {},
   "outputs": [],
   "source": [
    "# isMoonCheese = True\n",
    "# isUnicornReal = False\n"
   ]
  },
  {
   "cell_type": "code",
   "execution_count": null,
   "id": "ec6dbb0f-7b4c-4d86-aed1-496288e090b3",
   "metadata": {},
   "outputs": [],
   "source": [
    "Flow Control Statements\n",
    "if statements\n",
    "else statements\n",
    "elif statements\n",
    "while loops\n",
    "break\n",
    "\n"
   ]
  },
  {
   "cell_type": "code",
   "execution_count": null,
   "id": "9a071147-805f-4104-8ac8-e321dccf5591",
   "metadata": {},
   "outputs": [],
   "source": [
    "TRUTHY” AND “FALSEY” VALUES\n",
    "\n",
    "Conditions will consider some values in other data types equivalent to True and False. When used in conditions, 0, 0.0, and '' (the empty string) are considered False, while all other values are considered True. For example, look at the following program:"
   ]
  },
  {
   "cell_type": "code",
   "execution_count": 9,
   "id": "8a9cf2dc-ba7e-4768-a4a7-b711c0da68b7",
   "metadata": {},
   "outputs": [
    {
     "name": "stdout",
     "output_type": "stream",
     "text": [
      "Enter your name:\n"
     ]
    },
    {
     "name": "stdin",
     "output_type": "stream",
     "text": [
      " h\n"
     ]
    },
    {
     "name": "stdout",
     "output_type": "stream",
     "text": [
      "How many guests will you have?\n"
     ]
    },
    {
     "name": "stdin",
     "output_type": "stream",
     "text": [
      " -1\n"
     ]
    },
    {
     "name": "stdout",
     "output_type": "stream",
     "text": [
      "Be sure to have enough room for all your guests.\n",
      "Done\n"
     ]
    }
   ],
   "source": [
    "name = ''\n",
    "while not name:\n",
    "    print('Enter your name:')\n",
    "    name = input()\n",
    "print('How many guests will you have?')\n",
    "numOfGuests = int(input())\n",
    "if numOfGuests:\n",
    "    print('Be sure to have enough room for all your guests.')\n",
    "print('Done')"
   ]
  },
  {
   "cell_type": "code",
   "execution_count": null,
   "id": "7aaf31c3-51d6-4524-8884-70c51d7398eb",
   "metadata": {},
   "outputs": [],
   "source": [
    "for Loops and the range() Function\n",
    "\n",
    " what if you want to execute a block of code only a certain number of times? You can do this with a for loop statement and the range() function.\n",
    "\n"
   ]
  },
  {
   "cell_type": "code",
   "execution_count": 10,
   "id": "c7d815b2-937e-481f-8bd7-80fa19fe7f8b",
   "metadata": {},
   "outputs": [
    {
     "name": "stdout",
     "output_type": "stream",
     "text": [
      "My name is\n",
      "Jimmy Five Times (0)\n",
      "Jimmy Five Times (1)\n",
      "Jimmy Five Times (2)\n",
      "Jimmy Five Times (3)\n",
      "Jimmy Five Times (4)\n"
     ]
    }
   ],
   "source": [
    "print('My name is')\n",
    "for i in range(5):\n",
    "    print('Jimmy Five Times (' + str(i) + ')')"
   ]
  },
  {
   "cell_type": "code",
   "execution_count": null,
   "id": "5e8b4954-78c5-4c8f-9cd9-b2aa8de5541d",
   "metadata": {},
   "outputs": [],
   "source": [
    "print('My name is')\n",
    "for i in range(1, 5):\n",
    "    print('Jimmy Five Times (' + str(i) + ')')"
   ]
  }
 ],
 "metadata": {
  "kernelspec": {
   "display_name": "Python 3 (ipykernel)",
   "language": "python",
   "name": "python3"
  },
  "language_info": {
   "codemirror_mode": {
    "name": "ipython",
    "version": 3
   },
   "file_extension": ".py",
   "mimetype": "text/x-python",
   "name": "python",
   "nbconvert_exporter": "python",
   "pygments_lexer": "ipython3",
   "version": "3.12.5"
  }
 },
 "nbformat": 4,
 "nbformat_minor": 5
}
